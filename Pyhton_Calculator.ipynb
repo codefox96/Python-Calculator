{
  "nbformat": 4,
  "nbformat_minor": 0,
  "metadata": {
    "colab": {
      "name": "Pyhton Calculator.ipynb",
      "provenance": [],
      "collapsed_sections": []
    },
    "kernelspec": {
      "name": "python3",
      "display_name": "Python 3"
    }
  },
  "cells": [
    {
      "cell_type": "code",
      "metadata": {
        "id": "mVI3CUsV0g7F",
        "colab_type": "code",
        "outputId": "a6bfa15e-ac3b-4705-ea70-15eaeca9cd74",
        "colab": {
          "base_uri": "https://localhost:8080/",
          "height": 304
        }
      },
      "source": [
        "#Importing libraries\n",
        "import numpy as np\n",
        "import sys\n",
        "\n",
        "#Declaration of literals\n",
        "op = {\"+\",\"-\",\"*\",\"/\",\"mod\",\"pow\",\"exp\",\"nl\",\"abs\"}\n",
        "\n",
        "#Funtion that ensures that user enters an integer\n",
        "def check(message):\n",
        "  while True:\n",
        "    try:\n",
        "      user = input(message)\n",
        "      a = int(user)\n",
        "    except ValueError:\n",
        "      if(user==\"x\"):\n",
        "        print (\"TeRmiNaTed\")\n",
        "        sys.exit(\"GoodBye\")\n",
        "      else:\n",
        "        print(\"Not a number, try again\")\n",
        "        #continue #possibly unnecessary\n",
        "    else:\n",
        "      return a\n",
        "      break\n",
        "\n",
        "#Funtion that ensures that user chooses an option defined in the list of literals\n",
        "def choose(math):\n",
        "  while True:\n",
        "    try:\n",
        "      b = str(input(math))\n",
        "    except ValueError:\n",
        "      #fix\n",
        "      if(b==\"x\"):\n",
        "        print (\"TeRmiNaTed\")\n",
        "        sys.exit(\"GoodBye\")\n",
        "      else:  \n",
        "        print(\"This is not one of the options\")\n",
        "       #continue #possibly unnecessary\n",
        "    else:\n",
        "     if b in op:\n",
        "       return(b)\n",
        "       break\n",
        "     print(\"This is not an option, try again.\")\n",
        "     continue  \n",
        "\n",
        "#While loop that executes until an error is given      \n",
        "while(True):\n",
        "  num1 = check(\"Enter 1st number:\")\n",
        "  oper = choose(\"Choose an operation(+,-,*,/,mod,pow,exp,nl,abs,or 'x' to escape):\")\n",
        "  \n",
        "  #Handles literals that only require a single input\n",
        "  if oper == \"nl\":\n",
        "    print(\"{:.2f}\".format(np.log(num1)))\n",
        "    print()\n",
        "    continue\n",
        "\n",
        "  #Handles literals that only require a single input\n",
        "  if oper == (\"abs\"):\n",
        "    if (num1*-1) > 0:\n",
        "      print(\"The absolute value is:\",num1*-1)\n",
        "      print()\n",
        "    else:\n",
        "      print(\"The absolute value is:\",num1)\n",
        "      print()\n",
        "\n",
        "  #Handles all other options\n",
        "  else:\n",
        "    num2 = check(\"Enter 2nd number:\")\n",
        "    if oper == \"+\":\n",
        "      print(num1+num2)\n",
        "      print()\n",
        "    if oper == \"-\":\n",
        "      print(num1-num2)\n",
        "      print()\n",
        "    if oper == \"*\":\n",
        "      print(num1*num2)\n",
        "      print()\n",
        "    if oper == \"/\":\n",
        "      print(num1/num2)\n",
        "      print()\n",
        "    if oper == \"mod\":\n",
        "      print(num1%num2)\n",
        "      print()\n",
        "    if oper == \"pow\":\n",
        "      print(num1**num2)\n",
        "      print()\n",
        "    if oper == \"exp\":\n",
        "      print(num1*(10**num2))\n",
        "      print()"
      ],
      "execution_count": 0,
      "outputs": [
        {
          "output_type": "stream",
          "text": [
            "Enter 1st number:2\n",
            "Choose an operation(+,-,*,/,mod,pow,exp,nl,abs,or 'x' to escape):+\n",
            "Enter 2nd number:4\n",
            "6\n",
            "\n",
            "Enter 1st number:x\n",
            "TeRmiNaTed\n"
          ],
          "name": "stdout"
        },
        {
          "output_type": "error",
          "ename": "SystemExit",
          "evalue": "ignored",
          "traceback": [
            "An exception has occurred, use %tb to see the full traceback.\n",
            "\u001b[0;31mSystemExit\u001b[0m\u001b[0;31m:\u001b[0m GoodBye\n"
          ]
        },
        {
          "output_type": "stream",
          "text": [
            "/usr/local/lib/python3.6/dist-packages/IPython/core/interactiveshell.py:2890: UserWarning: To exit: use 'exit', 'quit', or Ctrl-D.\n",
            "  warn(\"To exit: use 'exit', 'quit', or Ctrl-D.\", stacklevel=1)\n"
          ],
          "name": "stderr"
        }
      ]
    }
  ]
}